{
 "cells": [
  {
   "cell_type": "code",
   "execution_count": 3,
   "metadata": {},
   "outputs": [],
   "source": [
    "# import library\n",
    "import pandas as pd\n",
    "import numpy as np\n",
    "import glob\n",
    "import json\n",
    "from sklearn.model_selection import train_test_split\n",
    "import torch\n",
    "import swifter\n"
   ]
  },
  {
   "cell_type": "code",
   "execution_count": 4,
   "metadata": {},
   "outputs": [],
   "source": [
    "DATA_PATH = '../raw-data/road/road/attacks/'\n",
    "\n",
    "TEST_PATH = DATA_PATH + 'fuzzing_attack_3.log'\n"
   ]
  },
  {
   "cell_type": "code",
   "execution_count": 5,
   "metadata": {},
   "outputs": [],
   "source": [
    "# read log file\n",
    "df = pd.read_fwf(\n",
    "    TEST_PATH, \n",
    "    delimiter = ' '+ '#' + '('+')',\n",
    "    skiprows = 1,skipfooter=1,\n",
    "    usecols = [0,2,3],\n",
    "    dtype = {'time':'float64', 'aid':str, 'data': str},\n",
    "    names = ['time','aid', 'data'] \n",
    ")"
   ]
  },
  {
   "cell_type": "code",
   "execution_count": 6,
   "metadata": {},
   "outputs": [
    {
     "data": {
      "text/html": [
       "<div>\n",
       "<style scoped>\n",
       "    .dataframe tbody tr th:only-of-type {\n",
       "        vertical-align: middle;\n",
       "    }\n",
       "\n",
       "    .dataframe tbody tr th {\n",
       "        vertical-align: top;\n",
       "    }\n",
       "\n",
       "    .dataframe thead th {\n",
       "        text-align: right;\n",
       "    }\n",
       "</style>\n",
       "<table border=\"1\" class=\"dataframe\">\n",
       "  <thead>\n",
       "    <tr style=\"text-align: right;\">\n",
       "      <th></th>\n",
       "      <th>time</th>\n",
       "      <th>aid</th>\n",
       "      <th>data</th>\n",
       "    </tr>\n",
       "  </thead>\n",
       "  <tbody>\n",
       "    <tr>\n",
       "      <th>0</th>\n",
       "      <td>1.020000e+09</td>\n",
       "      <td>033</td>\n",
       "      <td>123F19256DC127D0</td>\n",
       "    </tr>\n",
       "    <tr>\n",
       "      <th>1</th>\n",
       "      <td>1.020000e+09</td>\n",
       "      <td>00E</td>\n",
       "      <td>2054160208097380</td>\n",
       "    </tr>\n",
       "    <tr>\n",
       "      <th>2</th>\n",
       "      <td>1.020000e+09</td>\n",
       "      <td>193</td>\n",
       "      <td>00080803E8080000</td>\n",
       "    </tr>\n",
       "    <tr>\n",
       "      <th>3</th>\n",
       "      <td>1.020000e+09</td>\n",
       "      <td>107</td>\n",
       "      <td>0000000000000000</td>\n",
       "    </tr>\n",
       "    <tr>\n",
       "      <th>4</th>\n",
       "      <td>1.020000e+09</td>\n",
       "      <td>FFF</td>\n",
       "      <td>0000000000000000</td>\n",
       "    </tr>\n",
       "  </tbody>\n",
       "</table>\n",
       "</div>"
      ],
      "text/plain": [
       "           time  aid              data\n",
       "0  1.020000e+09  033  123F19256DC127D0\n",
       "1  1.020000e+09  00E  2054160208097380\n",
       "2  1.020000e+09  193  00080803E8080000\n",
       "3  1.020000e+09  107  0000000000000000\n",
       "4  1.020000e+09  FFF  0000000000000000"
      ]
     },
     "execution_count": 6,
     "metadata": {},
     "output_type": "execute_result"
    }
   ],
   "source": [
    "df.head()"
   ]
  },
  {
   "cell_type": "code",
   "execution_count": 7,
   "metadata": {},
   "outputs": [
    {
     "data": {
      "text/html": [
       "<div>\n",
       "<style scoped>\n",
       "    .dataframe tbody tr th:only-of-type {\n",
       "        vertical-align: middle;\n",
       "    }\n",
       "\n",
       "    .dataframe tbody tr th {\n",
       "        vertical-align: top;\n",
       "    }\n",
       "\n",
       "    .dataframe thead th {\n",
       "        text-align: right;\n",
       "    }\n",
       "</style>\n",
       "<table border=\"1\" class=\"dataframe\">\n",
       "  <thead>\n",
       "    <tr style=\"text-align: right;\">\n",
       "      <th></th>\n",
       "      <th>time</th>\n",
       "      <th>aid</th>\n",
       "      <th>data</th>\n",
       "    </tr>\n",
       "  </thead>\n",
       "  <tbody>\n",
       "  </tbody>\n",
       "</table>\n",
       "</div>"
      ],
      "text/plain": [
       "Empty DataFrame\n",
       "Columns: [time, aid, data]\n",
       "Index: []"
      ]
     },
     "execution_count": 7,
     "metadata": {},
     "output_type": "execute_result"
    }
   ],
   "source": [
    "df[df['aid'] == 'XXX']"
   ]
  },
  {
   "cell_type": "code",
   "execution_count": 8,
   "metadata": {},
   "outputs": [
    {
     "data": {
      "text/plain": [
       "False"
      ]
     },
     "execution_count": 8,
     "metadata": {},
     "output_type": "execute_result"
    }
   ],
   "source": [
    "df.isnull().values.any()"
   ]
  },
  {
   "cell_type": "code",
   "execution_count": 9,
   "metadata": {},
   "outputs": [
    {
     "data": {
      "text/plain": [
       "dtype('O')"
      ]
     },
     "execution_count": 9,
     "metadata": {},
     "output_type": "execute_result"
    }
   ],
   "source": [
    "df['aid'].dtypes"
   ]
  },
  {
   "cell_type": "code",
   "execution_count": 10,
   "metadata": {},
   "outputs": [
    {
     "data": {
      "text/plain": [
       "time    float64\n",
       "aid      object\n",
       "data     object\n",
       "dtype: object"
      ]
     },
     "execution_count": 10,
     "metadata": {},
     "output_type": "execute_result"
    }
   ],
   "source": [
    "df.dtypes"
   ]
  },
  {
   "cell_type": "code",
   "execution_count": 11,
   "metadata": {},
   "outputs": [],
   "source": [
    "df.aid = df.aid.apply(lambda x: int(x, 16))\n",
    "df.data = df.data.apply(lambda x: x.zfill(16)) #pad with 0s on the left for data with dlc < 8\n",
    "df.time = df.time - df.time.min()"
   ]
  },
  {
   "cell_type": "code",
   "execution_count": 12,
   "metadata": {},
   "outputs": [
    {
     "data": {
      "text/html": [
       "<div>\n",
       "<style scoped>\n",
       "    .dataframe tbody tr th:only-of-type {\n",
       "        vertical-align: middle;\n",
       "    }\n",
       "\n",
       "    .dataframe tbody tr th {\n",
       "        vertical-align: top;\n",
       "    }\n",
       "\n",
       "    .dataframe thead th {\n",
       "        text-align: right;\n",
       "    }\n",
       "</style>\n",
       "<table border=\"1\" class=\"dataframe\">\n",
       "  <thead>\n",
       "    <tr style=\"text-align: right;\">\n",
       "      <th></th>\n",
       "      <th>time</th>\n",
       "      <th>aid</th>\n",
       "      <th>data</th>\n",
       "    </tr>\n",
       "  </thead>\n",
       "  <tbody>\n",
       "    <tr>\n",
       "      <th>0</th>\n",
       "      <td>0.000000e+00</td>\n",
       "      <td>51</td>\n",
       "      <td>123F19256DC127D0</td>\n",
       "    </tr>\n",
       "    <tr>\n",
       "      <th>1</th>\n",
       "      <td>9.536743e-07</td>\n",
       "      <td>14</td>\n",
       "      <td>2054160208097380</td>\n",
       "    </tr>\n",
       "    <tr>\n",
       "      <th>2</th>\n",
       "      <td>1.033902e-03</td>\n",
       "      <td>403</td>\n",
       "      <td>00080803E8080000</td>\n",
       "    </tr>\n",
       "    <tr>\n",
       "      <th>3</th>\n",
       "      <td>1.034975e-03</td>\n",
       "      <td>263</td>\n",
       "      <td>0000000000000000</td>\n",
       "    </tr>\n",
       "    <tr>\n",
       "      <th>4</th>\n",
       "      <td>1.035929e-03</td>\n",
       "      <td>4095</td>\n",
       "      <td>0000000000000000</td>\n",
       "    </tr>\n",
       "    <tr>\n",
       "      <th>...</th>\n",
       "      <td>...</td>\n",
       "      <td>...</td>\n",
       "      <td>...</td>\n",
       "    </tr>\n",
       "    <tr>\n",
       "      <th>13231</th>\n",
       "      <td>5.478795e+00</td>\n",
       "      <td>51</td>\n",
       "      <td>121EF925CEC127D0</td>\n",
       "    </tr>\n",
       "    <tr>\n",
       "      <th>13232</th>\n",
       "      <td>5.478796e+00</td>\n",
       "      <td>14</td>\n",
       "      <td>20541602080973C4</td>\n",
       "    </tr>\n",
       "    <tr>\n",
       "      <th>13233</th>\n",
       "      <td>5.479791e+00</td>\n",
       "      <td>403</td>\n",
       "      <td>00080803E8080000</td>\n",
       "    </tr>\n",
       "    <tr>\n",
       "      <th>13234</th>\n",
       "      <td>5.480816e+00</td>\n",
       "      <td>263</td>\n",
       "      <td>0000000000000000</td>\n",
       "    </tr>\n",
       "    <tr>\n",
       "      <th>13235</th>\n",
       "      <td>5.480817e+00</td>\n",
       "      <td>4095</td>\n",
       "      <td>0000000000000000</td>\n",
       "    </tr>\n",
       "  </tbody>\n",
       "</table>\n",
       "<p>13236 rows × 3 columns</p>\n",
       "</div>"
      ],
      "text/plain": [
       "               time   aid              data\n",
       "0      0.000000e+00    51  123F19256DC127D0\n",
       "1      9.536743e-07    14  2054160208097380\n",
       "2      1.033902e-03   403  00080803E8080000\n",
       "3      1.034975e-03   263  0000000000000000\n",
       "4      1.035929e-03  4095  0000000000000000\n",
       "...             ...   ...               ...\n",
       "13231  5.478795e+00    51  121EF925CEC127D0\n",
       "13232  5.478796e+00    14  20541602080973C4\n",
       "13233  5.479791e+00   403  00080803E8080000\n",
       "13234  5.480816e+00   263  0000000000000000\n",
       "13235  5.480817e+00  4095  0000000000000000\n",
       "\n",
       "[13236 rows x 3 columns]"
      ]
     },
     "execution_count": 12,
     "metadata": {},
     "output_type": "execute_result"
    }
   ],
   "source": [
    "df"
   ]
  },
  {
   "cell_type": "code",
   "execution_count": 13,
   "metadata": {},
   "outputs": [
    {
     "name": "stdout",
     "output_type": "stream",
     "text": [
      "           time   aid              data\n",
      "4      0.001036  4095  0000000000000000\n",
      "21     0.008704  4095  0000000000000000\n",
      "48     0.021619  4095  0000000000000000\n",
      "67     0.028300  4095  0000000000000000\n",
      "68     0.029293  4095  0000000000000000\n",
      "...         ...   ...               ...\n",
      "13196  5.467582  4095  0000000000000000\n",
      "13197  5.467583  4095  0000000000000000\n",
      "13199  5.468572  4095  0000000000000000\n",
      "13203  5.469655  4095  0000000000000000\n",
      "13235  5.480817  4095  0000000000000000\n",
      "\n",
      "[835 rows x 3 columns]\n"
     ]
    }
   ],
   "source": [
    "# noise canID put in by author\n",
    "result = df[df['aid'] > 0x700]\n",
    "print(result)"
   ]
  },
  {
   "cell_type": "code",
   "execution_count": 24,
   "metadata": {},
   "outputs": [],
   "source": [
    "df = df[df.aid<=0x700]"
   ]
  },
  {
   "cell_type": "markdown",
   "metadata": {},
   "source": [
    "# Start processing"
   ]
  },
  {
   "cell_type": "code",
   "execution_count": 14,
   "metadata": {},
   "outputs": [],
   "source": [
    "#open meta data\n",
    "attack_dict = {}\n",
    "with open(DATA_PATH + 'capture_metadata.json', \"r\") as read_file:\n",
    "    attack_dict = json.load(read_file)"
   ]
  },
  {
   "cell_type": "code",
   "execution_count": 15,
   "metadata": {},
   "outputs": [],
   "source": [
    "import sys \n",
    "import os\n",
    "sys.path.append(os.path.abspath(\"../code\"))\n",
    "import helper_functions"
   ]
  },
  {
   "cell_type": "code",
   "execution_count": 16,
   "metadata": {},
   "outputs": [],
   "source": [
    "def get_all_data(attack_dict):\n",
    "    df_aggregation = []\n",
    "    \n",
    "    for attack_name, metadata in attack_dict.items():    \n",
    "        if \"accelerator\" not in attack_name and \"metadata\" not in attack_name:\n",
    "            print(f\"{attack_name}\")\n",
    "            file_name = '/home/tiendat/transformer-entropy-ids/road/attacks/{}.log'.format(attack_name)\n",
    "            df_attack = helper_functions.make_can_df(file_name)\n",
    "            df_attack = helper_functions.add_time_diff_per_aid_col(df_attack)\n",
    "            # print(df_attack.shape)\n",
    "            # print(df.dtypes)\n",
    "            df_aggregation.append(df_attack)\n",
    "            print(f\"Finish preprocess {file_name}\")\n",
    "    return df_aggregation\n",
    "\n",
    "def get_time_interval(attack_dict):\n",
    "    attack_metadata = []\n",
    "    \n",
    "    for attack_name, metadata in attack_dict.items():    \n",
    "        if \"accelerator\" not in attack_name and \"metadata\" not in attack_name:\n",
    "            print(f\"Finish get time interval of {attack_name}\")\n",
    "            \n",
    "            # From metadata file\n",
    "            attack_metadata.append([tuple(attack_dict[attack_name][\"injection_interval\"])])\n",
    "    return attack_metadata"
   ]
  },
  {
   "cell_type": "code",
   "execution_count": 17,
   "metadata": {},
   "outputs": [],
   "source": [
    "def mark_label(df_aggregation, attack_metadata, attack_dict):\n",
    "    count = 0\n",
    "    for attack_name, metadata in attack_dict.items():    \n",
    "        if \"accelerator\" not in attack_name and \"metadata\" not in attack_name:\n",
    "            print(f\"Index {count}: {attack_name} --- {attack_dict[attack_name]['injection_id']}\")\n",
    "            \n",
    "            if attack_dict[attack_name][\"injection_id\"] != \"XXX\":\n",
    "                df_aggregation[count] = helper_functions.add_actual_attack_col(\n",
    "                    df_aggregation[count], \n",
    "                    attack_metadata[count], \n",
    "                    int(attack_dict[attack_name][\"injection_id\"], 16), \n",
    "                    attack_dict[attack_name][\"injection_data_str\"], \n",
    "                    attack_name\n",
    "                )\n",
    "                print(len(df_aggregation[count][df_aggregation[count]['label'] == True]['label']))\n",
    "                print(len(df_aggregation[count][df_aggregation[count]['label'] == False]['label']))\n",
    "            else:\n",
    "                df_aggregation[count] = helper_functions.add_actual_attack_col(\n",
    "                    df_aggregation[count], \n",
    "                    attack_metadata[count], \n",
    "                    \"XXX\", \n",
    "                    attack_dict[attack_name][\"injection_data_str\"], \n",
    "                    attack_name\n",
    "                )\n",
    "                print(len(df_aggregation[count][df_aggregation[count]['label'] == True]['label']))\n",
    "                print(len(df_aggregation[count][df_aggregation[count]['label'] == False]['label']))\n",
    "            count += 1\n",
    "    return df_aggregation\n",
    "\n",
    "def get_time_interval(attack_dict):\n",
    "    attack_metadata = []\n",
    "    \n",
    "    for attack_name, metadata in attack_dict.items():    \n",
    "        if \"accelerator\" not in attack_name and \"metadata\" not in attack_name:\n",
    "            print(f\"Finish get time interval of {attack_name}\")\n",
    "            \n",
    "            # From metadata file\n",
    "            attack_metadata.append([tuple(attack_dict[attack_name][\"injection_interval\"])])\n",
    "    return attack_metadata\n",
    "\n",
    "def get_all_data(attack_dict):\n",
    "    df_aggregation = []\n",
    "    \n",
    "    for attack_name, metadata in attack_dict.items():    \n",
    "        if \"accelerator\" not in attack_name and \"metadata\" not in attack_name:\n",
    "            print(f\"{attack_name}\")\n",
    "            file_name = DATA_PATH + '{}.log'.format(attack_name)\n",
    "            df_attack = helper_functions.make_can_df(file_name)\n",
    "            df_attack = helper_functions.add_time_diff_per_aid_col(df_attack)\n",
    "\n",
    "            df_aggregation.append(df_attack)\n",
    "            print(f\"Finish preprocess {file_name}\")\n",
    "    return df_aggregation"
   ]
  },
  {
   "cell_type": "code",
   "execution_count": 18,
   "metadata": {},
   "outputs": [
    {
     "name": "stdout",
     "output_type": "stream",
     "text": [
      "correlated_signal_attack_1\n",
      "Finish preprocess ../raw-data/road/road/attacks/correlated_signal_attack_1.log\n",
      "correlated_signal_attack_1_masquerade\n",
      "Finish preprocess ../raw-data/road/road/attacks/correlated_signal_attack_1_masquerade.log\n",
      "correlated_signal_attack_2\n",
      "Finish preprocess ../raw-data/road/road/attacks/correlated_signal_attack_2.log\n",
      "correlated_signal_attack_2_masquerade\n",
      "Finish preprocess ../raw-data/road/road/attacks/correlated_signal_attack_2_masquerade.log\n",
      "correlated_signal_attack_3\n",
      "Finish preprocess ../raw-data/road/road/attacks/correlated_signal_attack_3.log\n",
      "correlated_signal_attack_3_masquerade\n",
      "Finish preprocess ../raw-data/road/road/attacks/correlated_signal_attack_3_masquerade.log\n",
      "fuzzing_attack_1\n",
      "Finish preprocess ../raw-data/road/road/attacks/fuzzing_attack_1.log\n",
      "fuzzing_attack_2\n",
      "Finish preprocess ../raw-data/road/road/attacks/fuzzing_attack_2.log\n",
      "fuzzing_attack_3\n",
      "Finish preprocess ../raw-data/road/road/attacks/fuzzing_attack_3.log\n",
      "max_engine_coolant_temp_attack\n",
      "Finish preprocess ../raw-data/road/road/attacks/max_engine_coolant_temp_attack.log\n",
      "max_engine_coolant_temp_attack_masquerade\n",
      "Finish preprocess ../raw-data/road/road/attacks/max_engine_coolant_temp_attack_masquerade.log\n",
      "max_speedometer_attack_1\n",
      "Finish preprocess ../raw-data/road/road/attacks/max_speedometer_attack_1.log\n",
      "max_speedometer_attack_1_masquerade\n",
      "Finish preprocess ../raw-data/road/road/attacks/max_speedometer_attack_1_masquerade.log\n",
      "max_speedometer_attack_2\n",
      "Finish preprocess ../raw-data/road/road/attacks/max_speedometer_attack_2.log\n",
      "max_speedometer_attack_2_masquerade\n",
      "Finish preprocess ../raw-data/road/road/attacks/max_speedometer_attack_2_masquerade.log\n",
      "max_speedometer_attack_3\n",
      "Finish preprocess ../raw-data/road/road/attacks/max_speedometer_attack_3.log\n",
      "max_speedometer_attack_3_masquerade\n",
      "Finish preprocess ../raw-data/road/road/attacks/max_speedometer_attack_3_masquerade.log\n",
      "reverse_light_off_attack_1\n",
      "Finish preprocess ../raw-data/road/road/attacks/reverse_light_off_attack_1.log\n",
      "reverse_light_off_attack_1_masquerade\n",
      "Finish preprocess ../raw-data/road/road/attacks/reverse_light_off_attack_1_masquerade.log\n",
      "reverse_light_off_attack_2\n",
      "Finish preprocess ../raw-data/road/road/attacks/reverse_light_off_attack_2.log\n",
      "reverse_light_off_attack_2_masquerade\n",
      "Finish preprocess ../raw-data/road/road/attacks/reverse_light_off_attack_2_masquerade.log\n",
      "reverse_light_off_attack_3\n",
      "Finish preprocess ../raw-data/road/road/attacks/reverse_light_off_attack_3.log\n",
      "reverse_light_off_attack_3_masquerade\n",
      "Finish preprocess ../raw-data/road/road/attacks/reverse_light_off_attack_3_masquerade.log\n",
      "reverse_light_on_attack_1\n",
      "Finish preprocess ../raw-data/road/road/attacks/reverse_light_on_attack_1.log\n",
      "reverse_light_on_attack_1_masquerade\n",
      "Finish preprocess ../raw-data/road/road/attacks/reverse_light_on_attack_1_masquerade.log\n",
      "reverse_light_on_attack_2\n",
      "Finish preprocess ../raw-data/road/road/attacks/reverse_light_on_attack_2.log\n",
      "reverse_light_on_attack_2_masquerade\n",
      "Finish preprocess ../raw-data/road/road/attacks/reverse_light_on_attack_2_masquerade.log\n",
      "reverse_light_on_attack_3\n",
      "Finish preprocess ../raw-data/road/road/attacks/reverse_light_on_attack_3.log\n",
      "reverse_light_on_attack_3_masquerade\n",
      "Finish preprocess ../raw-data/road/road/attacks/reverse_light_on_attack_3_masquerade.log\n"
     ]
    }
   ],
   "source": [
    "df_aggregation = get_all_data(attack_dict)"
   ]
  },
  {
   "cell_type": "code",
   "execution_count": 21,
   "metadata": {},
   "outputs": [
    {
     "data": {
      "text/html": [
       "<div>\n",
       "<style scoped>\n",
       "    .dataframe tbody tr th:only-of-type {\n",
       "        vertical-align: middle;\n",
       "    }\n",
       "\n",
       "    .dataframe tbody tr th {\n",
       "        vertical-align: top;\n",
       "    }\n",
       "\n",
       "    .dataframe thead th {\n",
       "        text-align: right;\n",
       "    }\n",
       "</style>\n",
       "<table border=\"1\" class=\"dataframe\">\n",
       "  <thead>\n",
       "    <tr style=\"text-align: right;\">\n",
       "      <th></th>\n",
       "      <th>time</th>\n",
       "      <th>aid</th>\n",
       "      <th>data</th>\n",
       "      <th>time_diffs</th>\n",
       "    </tr>\n",
       "  </thead>\n",
       "  <tbody>\n",
       "    <tr>\n",
       "      <th>3873</th>\n",
       "      <td>1.618163</td>\n",
       "      <td>6</td>\n",
       "      <td>0800006400000000</td>\n",
       "      <td>0.999845</td>\n",
       "    </tr>\n",
       "    <tr>\n",
       "      <th>6266</th>\n",
       "      <td>2.618064</td>\n",
       "      <td>6</td>\n",
       "      <td>0800006400000000</td>\n",
       "      <td>0.999901</td>\n",
       "    </tr>\n",
       "    <tr>\n",
       "      <th>8655</th>\n",
       "      <td>3.617806</td>\n",
       "      <td>6</td>\n",
       "      <td>0800006400000000</td>\n",
       "      <td>0.999742</td>\n",
       "    </tr>\n",
       "    <tr>\n",
       "      <th>11049</th>\n",
       "      <td>4.617810</td>\n",
       "      <td>6</td>\n",
       "      <td>0800006400000000</td>\n",
       "      <td>1.000004</td>\n",
       "    </tr>\n",
       "    <tr>\n",
       "      <th>13441</th>\n",
       "      <td>5.618164</td>\n",
       "      <td>6</td>\n",
       "      <td>0800006400000000</td>\n",
       "      <td>1.000354</td>\n",
       "    </tr>\n",
       "  </tbody>\n",
       "</table>\n",
       "</div>"
      ],
      "text/plain": [
       "           time  aid              data  time_diffs\n",
       "3873   1.618163    6  0800006400000000    0.999845\n",
       "6266   2.618064    6  0800006400000000    0.999901\n",
       "8655   3.617806    6  0800006400000000    0.999742\n",
       "11049  4.617810    6  0800006400000000    1.000004\n",
       "13441  5.618164    6  0800006400000000    1.000354"
      ]
     },
     "execution_count": 21,
     "metadata": {},
     "output_type": "execute_result"
    }
   ],
   "source": [
    "df_aggregation[0].head()\n"
   ]
  },
  {
   "cell_type": "code",
   "execution_count": 30,
   "metadata": {},
   "outputs": [
    {
     "name": "stdout",
     "output_type": "stream",
     "text": [
      "Finish get time interval of correlated_signal_attack_1\n",
      "Finish get time interval of correlated_signal_attack_1_masquerade\n",
      "Finish get time interval of correlated_signal_attack_2\n",
      "Finish get time interval of correlated_signal_attack_2_masquerade\n",
      "Finish get time interval of correlated_signal_attack_3\n",
      "Finish get time interval of correlated_signal_attack_3_masquerade\n",
      "Finish get time interval of fuzzing_attack_1\n",
      "Finish get time interval of fuzzing_attack_2\n",
      "Finish get time interval of fuzzing_attack_3\n",
      "Finish get time interval of max_engine_coolant_temp_attack\n",
      "Finish get time interval of max_engine_coolant_temp_attack_masquerade\n",
      "Finish get time interval of max_speedometer_attack_1\n",
      "Finish get time interval of max_speedometer_attack_1_masquerade\n",
      "Finish get time interval of max_speedometer_attack_2\n",
      "Finish get time interval of max_speedometer_attack_2_masquerade\n",
      "Finish get time interval of max_speedometer_attack_3\n",
      "Finish get time interval of max_speedometer_attack_3_masquerade\n",
      "Finish get time interval of reverse_light_off_attack_1\n",
      "Finish get time interval of reverse_light_off_attack_1_masquerade\n",
      "Finish get time interval of reverse_light_off_attack_2\n",
      "Finish get time interval of reverse_light_off_attack_2_masquerade\n",
      "Finish get time interval of reverse_light_off_attack_3\n",
      "Finish get time interval of reverse_light_off_attack_3_masquerade\n",
      "Finish get time interval of reverse_light_on_attack_1\n",
      "Finish get time interval of reverse_light_on_attack_1_masquerade\n",
      "Finish get time interval of reverse_light_on_attack_2\n",
      "Finish get time interval of reverse_light_on_attack_2_masquerade\n",
      "Finish get time interval of reverse_light_on_attack_3\n",
      "Finish get time interval of reverse_light_on_attack_3_masquerade\n"
     ]
    }
   ],
   "source": [
    "attack_metadata = get_time_interval(attack_dict)"
   ]
  },
  {
   "cell_type": "code",
   "execution_count": 31,
   "metadata": {},
   "outputs": [
    {
     "name": "stdout",
     "output_type": "stream",
     "text": [
      "Index 0: correlated_signal_attack_1 --- 0x6e0\n",
      "2086\n",
      "74045\n",
      "Index 1: correlated_signal_attack_1_masquerade --- 0x6e0\n",
      "2086\n",
      "71959\n",
      "Index 2: correlated_signal_attack_2 --- 0x6e0\n",
      "2140\n",
      "63153\n",
      "Index 3: correlated_signal_attack_2_masquerade --- 0x6e0\n",
      "2140\n",
      "61013\n",
      "Index 4: correlated_signal_attack_3 --- 0x6e0\n",
      "1264\n",
      "37897\n",
      "Index 5: correlated_signal_attack_3_masquerade --- 0x6e0\n",
      "1264\n",
      "36633\n",
      "Index 6: fuzzing_attack_1 --- XXX\n",
      "36\n",
      "45549\n",
      "Index 7: fuzzing_attack_2 --- XXX\n",
      "15\n",
      "29858\n",
      "Index 8: fuzzing_attack_3 --- XXX\n",
      "3\n",
      "12182\n",
      "Index 9: max_engine_coolant_temp_attack --- 0x4e7\n",
      "42\n",
      "57871\n",
      "Index 10: max_engine_coolant_temp_attack_masquerade --- 0x4e7\n",
      "42\n",
      "57829\n",
      "Index 11: max_speedometer_attack_1 --- 0xd0\n",
      "2459\n",
      "197542\n",
      "Index 12: max_speedometer_attack_1_masquerade --- 0xd0\n",
      "2444\n",
      "195113\n",
      "Index 13: max_speedometer_attack_2 --- 0xd0\n",
      "3169\n",
      "133604\n",
      "Index 14: max_speedometer_attack_2_masquerade --- 0xd0\n",
      "3140\n",
      "130493\n",
      "Index 15: max_speedometer_attack_3 --- 0xd0\n",
      "6126\n",
      "194216\n",
      "Index 16: max_speedometer_attack_3_masquerade --- 0xd0\n",
      "6107\n",
      "188128\n",
      "Index 17: reverse_light_off_attack_1 --- 0xd0\n",
      "672\n",
      "62875\n",
      "Index 18: reverse_light_off_attack_1_masquerade --- 0xd0\n",
      "672\n",
      "62203\n",
      "Index 19: reverse_light_off_attack_2 --- 0xd0\n",
      "2377\n",
      "91009\n",
      "Index 20: reverse_light_off_attack_2_masquerade --- 0xd0\n",
      "2371\n",
      "88644\n",
      "Index 21: reverse_light_off_attack_3 --- 0xd0\n",
      "2434\n",
      "129577\n",
      "Index 22: reverse_light_off_attack_3_masquerade --- 0xd0\n",
      "2434\n",
      "127143\n",
      "Index 23: reverse_light_on_attack_1 --- 0xd0\n",
      "3268\n",
      "121581\n",
      "Index 24: reverse_light_on_attack_1_masquerade --- 0xd0\n",
      "1991\n",
      "120867\n",
      "Index 25: reverse_light_on_attack_2 --- 0xd0\n",
      "3753\n",
      "161212\n",
      "Index 26: reverse_light_on_attack_2_masquerade --- 0xd0\n",
      "3689\n",
      "157587\n",
      "Index 27: reverse_light_on_attack_3 --- 0xd0\n",
      "2364\n",
      "143884\n",
      "Index 28: reverse_light_on_attack_3_masquerade --- 0xd0\n",
      "2351\n",
      "141546\n"
     ]
    }
   ],
   "source": [
    "df_aggregation = mark_label(df_aggregation, attack_metadata, attack_dict)"
   ]
  },
  {
   "cell_type": "code",
   "execution_count": 32,
   "metadata": {},
   "outputs": [
    {
     "data": {
      "text/plain": [
       "[[(9.191851, 30.050109)],\n",
       " [(9.191851, 30.050109)],\n",
       " [(6.830477, 28.225908)],\n",
       " [(6.830477, 28.225908)],\n",
       " [(4.318482, 16.95706)],\n",
       " [(4.318482, 16.95706)],\n",
       " [(4.622975, 7.958234)],\n",
       " [(11.367798, 13.346811)],\n",
       " [(4.824447, 5.470669)],\n",
       " [(19.979078, 24.170183)],\n",
       " [(19.979078, 24.170183)],\n",
       " [(42.009204, 66.449011)],\n",
       " [(42.009204, 66.449011)],\n",
       " [(16.009225, 47.408246)],\n",
       " [(16.009225, 47.408246)],\n",
       " [(9.516489, 70.587285)],\n",
       " [(9.516489, 70.587285)],\n",
       " [(16.627923, 23.347311)],\n",
       " [(16.627923, 23.347311)],\n",
       " [(13.168608, 36.87663)],\n",
       " [(13.168608, 36.87663)],\n",
       " [(16.524085, 40.862015)],\n",
       " [(16.524085, 40.862015)],\n",
       " [(18.929177, 38.836015)],\n",
       " [(18.929177, 38.836015)],\n",
       " [(20.407134, 57.297253)],\n",
       " [(20.407134, 57.297253)],\n",
       " [(23.070278, 46.580686)],\n",
       " [(23.070278, 46.580686)]]"
      ]
     },
     "execution_count": 32,
     "metadata": {},
     "output_type": "execute_result"
    }
   ],
   "source": [
    "attack_metadata"
   ]
  },
  {
   "cell_type": "code",
   "execution_count": 33,
   "metadata": {},
   "outputs": [
    {
     "data": {
      "text/plain": [
       "array([False,  True])"
      ]
     },
     "execution_count": 33,
     "metadata": {},
     "output_type": "execute_result"
    }
   ],
   "source": [
    "df_aggregation[0]['label'].unique()"
   ]
  },
  {
   "cell_type": "code",
   "execution_count": 34,
   "metadata": {},
   "outputs": [
    {
     "name": "stdout",
     "output_type": "stream",
     "text": [
      "Saving correlated_signal_attack_1_dataset.csv\n",
      "Saving correlated_signal_attack_1_masquerade_dataset.csv\n",
      "Saving correlated_signal_attack_2_dataset.csv\n",
      "Saving correlated_signal_attack_2_masquerade_dataset.csv\n",
      "Saving correlated_signal_attack_3_dataset.csv\n",
      "Saving correlated_signal_attack_3_masquerade_dataset.csv\n",
      "Saving fuzzing_attack_1_dataset.csv\n",
      "Saving fuzzing_attack_2_dataset.csv\n",
      "Saving fuzzing_attack_3_dataset.csv\n",
      "Saving max_engine_coolant_temp_attack_dataset.csv\n",
      "Saving max_engine_coolant_temp_attack_masquerade_dataset.csv\n",
      "Saving max_speedometer_attack_1_dataset.csv\n",
      "Saving max_speedometer_attack_1_masquerade_dataset.csv\n",
      "Saving max_speedometer_attack_2_dataset.csv\n",
      "Saving max_speedometer_attack_2_masquerade_dataset.csv\n",
      "Saving max_speedometer_attack_3_dataset.csv\n",
      "Saving max_speedometer_attack_3_masquerade_dataset.csv\n",
      "Saving reverse_light_off_attack_1_dataset.csv\n",
      "Saving reverse_light_off_attack_1_masquerade_dataset.csv\n",
      "Saving reverse_light_off_attack_2_dataset.csv\n",
      "Saving reverse_light_off_attack_2_masquerade_dataset.csv\n",
      "Saving reverse_light_off_attack_3_dataset.csv\n",
      "Saving reverse_light_off_attack_3_masquerade_dataset.csv\n",
      "Saving reverse_light_on_attack_1_dataset.csv\n",
      "Saving reverse_light_on_attack_1_masquerade_dataset.csv\n",
      "Saving reverse_light_on_attack_2_dataset.csv\n",
      "Saving reverse_light_on_attack_2_masquerade_dataset.csv\n",
      "Saving reverse_light_on_attack_3_dataset.csv\n",
      "Saving reverse_light_on_attack_3_masquerade_dataset.csv\n"
     ]
    }
   ],
   "source": [
    "count = 0\n",
    "out_mas = '/home/ntmduy/car-ids/processed-data/road/mar_dataset/'\n",
    "out_fab = '/home/ntmduy/car-ids/processed-data/road/fab_dataset/'\n",
    "for attack_name, metadata in attack_dict.items():\n",
    "    if \"accelerator\" not in attack_name and \"metadata\" not in attack_name:\n",
    "        print(f\"Saving {attack_name}_dataset.csv\")\n",
    "        if \"masquerade\" not in attack_name:\n",
    "            foutput = '{}/{}_dataset.csv'.format(out_fab, attack_name)\n",
    "            df_aggregation[count].to_csv(foutput, index=False)\n",
    "        else:\n",
    "            foutput = '{}/{}_dataset.csv'.format(out_mas, attack_name)\n",
    "            df_aggregation[count].to_csv(foutput, index=False)\n",
    "        count += 1"
   ]
  },
  {
   "cell_type": "code",
   "execution_count": null,
   "metadata": {},
   "outputs": [
    {
     "data": {
      "text/html": [
       "<div>\n",
       "<style scoped>\n",
       "    .dataframe tbody tr th:only-of-type {\n",
       "        vertical-align: middle;\n",
       "    }\n",
       "\n",
       "    .dataframe tbody tr th {\n",
       "        vertical-align: top;\n",
       "    }\n",
       "\n",
       "    .dataframe thead th {\n",
       "        text-align: right;\n",
       "    }\n",
       "</style>\n",
       "<table border=\"1\" class=\"dataframe\">\n",
       "  <thead>\n",
       "    <tr style=\"text-align: right;\">\n",
       "      <th></th>\n",
       "      <th>time</th>\n",
       "      <th>aid</th>\n",
       "      <th>data</th>\n",
       "    </tr>\n",
       "  </thead>\n",
       "  <tbody>\n",
       "    <tr>\n",
       "      <th>0</th>\n",
       "      <td>0.000000</td>\n",
       "      <td>852</td>\n",
       "      <td>1FFF40000003C580</td>\n",
       "    </tr>\n",
       "    <tr>\n",
       "      <th>1</th>\n",
       "      <td>0.000001</td>\n",
       "      <td>1505</td>\n",
       "      <td>893FE0070A000080</td>\n",
       "    </tr>\n",
       "    <tr>\n",
       "      <th>2</th>\n",
       "      <td>0.000002</td>\n",
       "      <td>651</td>\n",
       "      <td>0000000000000000</td>\n",
       "    </tr>\n",
       "    <tr>\n",
       "      <th>3</th>\n",
       "      <td>0.000992</td>\n",
       "      <td>167</td>\n",
       "      <td>005108E5112A00A0</td>\n",
       "    </tr>\n",
       "    <tr>\n",
       "      <th>4</th>\n",
       "      <td>0.000994</td>\n",
       "      <td>722</td>\n",
       "      <td>0000500000000000</td>\n",
       "    </tr>\n",
       "    <tr>\n",
       "      <th>...</th>\n",
       "      <td>...</td>\n",
       "      <td>...</td>\n",
       "      <td>...</td>\n",
       "    </tr>\n",
       "    <tr>\n",
       "      <th>204753</th>\n",
       "      <td>86.459022</td>\n",
       "      <td>560</td>\n",
       "      <td>F700000A7C000E00</td>\n",
       "    </tr>\n",
       "    <tr>\n",
       "      <th>204754</th>\n",
       "      <td>86.461950</td>\n",
       "      <td>339</td>\n",
       "      <td>00000000000C1002</td>\n",
       "    </tr>\n",
       "    <tr>\n",
       "      <th>204755</th>\n",
       "      <td>86.462905</td>\n",
       "      <td>1634</td>\n",
       "      <td>4E60000040000000</td>\n",
       "    </tr>\n",
       "    <tr>\n",
       "      <th>204756</th>\n",
       "      <td>86.462906</td>\n",
       "      <td>412</td>\n",
       "      <td>02FC200002002730</td>\n",
       "    </tr>\n",
       "    <tr>\n",
       "      <th>204757</th>\n",
       "      <td>86.462907</td>\n",
       "      <td>14</td>\n",
       "      <td>2054560208087530</td>\n",
       "    </tr>\n",
       "  </tbody>\n",
       "</table>\n",
       "<p>192017 rows × 3 columns</p>\n",
       "</div>"
      ],
      "text/plain": [
       "             time   aid              data\n",
       "0        0.000000   852  1FFF40000003C580\n",
       "1        0.000001  1505  893FE0070A000080\n",
       "2        0.000002   651  0000000000000000\n",
       "3        0.000992   167  005108E5112A00A0\n",
       "4        0.000994   722  0000500000000000\n",
       "...           ...   ...               ...\n",
       "204753  86.459022   560  F700000A7C000E00\n",
       "204754  86.461950   339  00000000000C1002\n",
       "204755  86.462905  1634  4E60000040000000\n",
       "204756  86.462906   412  02FC200002002730\n",
       "204757  86.462907    14  2054560208087530\n",
       "\n",
       "[192017 rows x 3 columns]"
      ]
     },
     "execution_count": 106,
     "metadata": {},
     "output_type": "execute_result"
    }
   ],
   "source": [
    "df"
   ]
  },
  {
   "cell_type": "code",
   "execution_count": null,
   "metadata": {},
   "outputs": [
    {
     "name": "stdout",
     "output_type": "stream",
     "text": [
      "          HexString  Data1  Data2  Data3  Data4  Data5  Data6  Data7  Data8\n",
      "0  1A2B3C4D5E6F7A8B     26     43     60     77     94    111    122    139\n",
      "1  9C0D1E2F3A4B5C6D    156     13     30     47     58     75     92    109\n"
     ]
    }
   ],
   "source": [
    "import pandas as pd\n",
    "\n",
    "def split_hex_string_column(df, column_name):\n",
    "    \"\"\"\n",
    "    Splits a column in a DataFrame that contains strings of 16 hexadecimal characters\n",
    "    into 8 separate columns, with each new column containing the integer value of\n",
    "    two characters interpreted as hexadecimal (base 16).\n",
    "    \n",
    "    :param df: The DataFrame containing the column to split.\n",
    "    :param column_name: The name of the column to split.\n",
    "    \"\"\"\n",
    "    # Number of characters to group together from the hex string\n",
    "    chunk_size = 2\n",
    "    \n",
    "    # Create the new columns from the hexadecimal string column\n",
    "    for i in range(0, 16, chunk_size):\n",
    "        new_col_name = f'Data{i//2 + 1}'\n",
    "        # Slice the string into chunks of 2, convert to integer from base 16\n",
    "        df[new_col_name] = df[column_name].str[i:i+chunk_size].apply(lambda x: int(x, 16))\n",
    "    \n",
    "    return df\n"
   ]
  },
  {
   "cell_type": "code",
   "execution_count": null,
   "metadata": {},
   "outputs": [
    {
     "ename": "KeyError",
     "evalue": "'data'",
     "output_type": "error",
     "traceback": [
      "\u001b[0;31m---------------------------------------------------------------------------\u001b[0m",
      "\u001b[0;31mKeyError\u001b[0m                                  Traceback (most recent call last)",
      "File \u001b[0;32m~/miniconda3/envs/py311/lib/python3.11/site-packages/pandas/core/indexes/base.py:3805\u001b[0m, in \u001b[0;36mIndex.get_loc\u001b[0;34m(self, key)\u001b[0m\n\u001b[1;32m   3804\u001b[0m \u001b[38;5;28;01mtry\u001b[39;00m:\n\u001b[0;32m-> 3805\u001b[0m     \u001b[38;5;28;01mreturn\u001b[39;00m \u001b[38;5;28;43mself\u001b[39;49m\u001b[38;5;241;43m.\u001b[39;49m\u001b[43m_engine\u001b[49m\u001b[38;5;241;43m.\u001b[39;49m\u001b[43mget_loc\u001b[49m\u001b[43m(\u001b[49m\u001b[43mcasted_key\u001b[49m\u001b[43m)\u001b[49m\n\u001b[1;32m   3806\u001b[0m \u001b[38;5;28;01mexcept\u001b[39;00m \u001b[38;5;167;01mKeyError\u001b[39;00m \u001b[38;5;28;01mas\u001b[39;00m err:\n",
      "File \u001b[0;32mindex.pyx:167\u001b[0m, in \u001b[0;36mpandas._libs.index.IndexEngine.get_loc\u001b[0;34m()\u001b[0m\n",
      "File \u001b[0;32mindex.pyx:196\u001b[0m, in \u001b[0;36mpandas._libs.index.IndexEngine.get_loc\u001b[0;34m()\u001b[0m\n",
      "File \u001b[0;32mpandas/_libs/hashtable_class_helper.pxi:7081\u001b[0m, in \u001b[0;36mpandas._libs.hashtable.PyObjectHashTable.get_item\u001b[0;34m()\u001b[0m\n",
      "File \u001b[0;32mpandas/_libs/hashtable_class_helper.pxi:7089\u001b[0m, in \u001b[0;36mpandas._libs.hashtable.PyObjectHashTable.get_item\u001b[0;34m()\u001b[0m\n",
      "\u001b[0;31mKeyError\u001b[0m: 'data'",
      "\nThe above exception was the direct cause of the following exception:\n",
      "\u001b[0;31mKeyError\u001b[0m                                  Traceback (most recent call last)",
      "Cell \u001b[0;32mIn[108], line 1\u001b[0m\n\u001b[0;32m----> 1\u001b[0m df \u001b[38;5;241m=\u001b[39m \u001b[43msplit_hex_string_column\u001b[49m\u001b[43m(\u001b[49m\u001b[43mdf\u001b[49m\u001b[43m,\u001b[49m\u001b[43m \u001b[49m\u001b[38;5;124;43m\"\u001b[39;49m\u001b[38;5;124;43mdata\u001b[39;49m\u001b[38;5;124;43m\"\u001b[39;49m\u001b[43m)\u001b[49m\n",
      "Cell \u001b[0;32mIn[107], line 19\u001b[0m, in \u001b[0;36msplit_hex_string_column\u001b[0;34m(df, column_name)\u001b[0m\n\u001b[1;32m     17\u001b[0m     new_col_name \u001b[38;5;241m=\u001b[39m \u001b[38;5;124mf\u001b[39m\u001b[38;5;124m'\u001b[39m\u001b[38;5;124mData\u001b[39m\u001b[38;5;132;01m{\u001b[39;00mi\u001b[38;5;241m/\u001b[39m\u001b[38;5;241m/\u001b[39m\u001b[38;5;241m2\u001b[39m\u001b[38;5;250m \u001b[39m\u001b[38;5;241m+\u001b[39m\u001b[38;5;250m \u001b[39m\u001b[38;5;241m1\u001b[39m\u001b[38;5;132;01m}\u001b[39;00m\u001b[38;5;124m'\u001b[39m\n\u001b[1;32m     18\u001b[0m     \u001b[38;5;66;03m# Slice the string into chunks of 2, convert to integer from base 16\u001b[39;00m\n\u001b[0;32m---> 19\u001b[0m     df[new_col_name] \u001b[38;5;241m=\u001b[39m \u001b[43mdf\u001b[49m\u001b[43m[\u001b[49m\u001b[43mcolumn_name\u001b[49m\u001b[43m]\u001b[49m\u001b[38;5;241m.\u001b[39mstr[i:i\u001b[38;5;241m+\u001b[39mchunk_size]\u001b[38;5;241m.\u001b[39mapply(\u001b[38;5;28;01mlambda\u001b[39;00m x: \u001b[38;5;28mint\u001b[39m(x, \u001b[38;5;241m16\u001b[39m))\n\u001b[1;32m     21\u001b[0m \u001b[38;5;28;01mreturn\u001b[39;00m df\n",
      "File \u001b[0;32m~/miniconda3/envs/py311/lib/python3.11/site-packages/pandas/core/frame.py:4090\u001b[0m, in \u001b[0;36mDataFrame.__getitem__\u001b[0;34m(self, key)\u001b[0m\n\u001b[1;32m   4088\u001b[0m \u001b[38;5;28;01mif\u001b[39;00m \u001b[38;5;28mself\u001b[39m\u001b[38;5;241m.\u001b[39mcolumns\u001b[38;5;241m.\u001b[39mnlevels \u001b[38;5;241m>\u001b[39m \u001b[38;5;241m1\u001b[39m:\n\u001b[1;32m   4089\u001b[0m     \u001b[38;5;28;01mreturn\u001b[39;00m \u001b[38;5;28mself\u001b[39m\u001b[38;5;241m.\u001b[39m_getitem_multilevel(key)\n\u001b[0;32m-> 4090\u001b[0m indexer \u001b[38;5;241m=\u001b[39m \u001b[38;5;28;43mself\u001b[39;49m\u001b[38;5;241;43m.\u001b[39;49m\u001b[43mcolumns\u001b[49m\u001b[38;5;241;43m.\u001b[39;49m\u001b[43mget_loc\u001b[49m\u001b[43m(\u001b[49m\u001b[43mkey\u001b[49m\u001b[43m)\u001b[49m\n\u001b[1;32m   4091\u001b[0m \u001b[38;5;28;01mif\u001b[39;00m is_integer(indexer):\n\u001b[1;32m   4092\u001b[0m     indexer \u001b[38;5;241m=\u001b[39m [indexer]\n",
      "File \u001b[0;32m~/miniconda3/envs/py311/lib/python3.11/site-packages/pandas/core/indexes/base.py:3812\u001b[0m, in \u001b[0;36mIndex.get_loc\u001b[0;34m(self, key)\u001b[0m\n\u001b[1;32m   3807\u001b[0m     \u001b[38;5;28;01mif\u001b[39;00m \u001b[38;5;28misinstance\u001b[39m(casted_key, \u001b[38;5;28mslice\u001b[39m) \u001b[38;5;129;01mor\u001b[39;00m (\n\u001b[1;32m   3808\u001b[0m         \u001b[38;5;28misinstance\u001b[39m(casted_key, abc\u001b[38;5;241m.\u001b[39mIterable)\n\u001b[1;32m   3809\u001b[0m         \u001b[38;5;129;01mand\u001b[39;00m \u001b[38;5;28many\u001b[39m(\u001b[38;5;28misinstance\u001b[39m(x, \u001b[38;5;28mslice\u001b[39m) \u001b[38;5;28;01mfor\u001b[39;00m x \u001b[38;5;129;01min\u001b[39;00m casted_key)\n\u001b[1;32m   3810\u001b[0m     ):\n\u001b[1;32m   3811\u001b[0m         \u001b[38;5;28;01mraise\u001b[39;00m InvalidIndexError(key)\n\u001b[0;32m-> 3812\u001b[0m     \u001b[38;5;28;01mraise\u001b[39;00m \u001b[38;5;167;01mKeyError\u001b[39;00m(key) \u001b[38;5;28;01mfrom\u001b[39;00m \u001b[38;5;21;01merr\u001b[39;00m\n\u001b[1;32m   3813\u001b[0m \u001b[38;5;28;01mexcept\u001b[39;00m \u001b[38;5;167;01mTypeError\u001b[39;00m:\n\u001b[1;32m   3814\u001b[0m     \u001b[38;5;66;03m# If we have a listlike key, _check_indexing_error will raise\u001b[39;00m\n\u001b[1;32m   3815\u001b[0m     \u001b[38;5;66;03m#  InvalidIndexError. Otherwise we fall through and re-raise\u001b[39;00m\n\u001b[1;32m   3816\u001b[0m     \u001b[38;5;66;03m#  the TypeError.\u001b[39;00m\n\u001b[1;32m   3817\u001b[0m     \u001b[38;5;28mself\u001b[39m\u001b[38;5;241m.\u001b[39m_check_indexing_error(key)\n",
      "\u001b[0;31mKeyError\u001b[0m: 'data'"
     ]
    }
   ],
   "source": [
    "df = split_hex_string_column(df, \"data\")"
   ]
  }
 ],
 "metadata": {
  "kernelspec": {
   "display_name": "py311",
   "language": "python",
   "name": "python3"
  },
  "language_info": {
   "codemirror_mode": {
    "name": "ipython",
    "version": 3
   },
   "file_extension": ".py",
   "mimetype": "text/x-python",
   "name": "python",
   "nbconvert_exporter": "python",
   "pygments_lexer": "ipython3",
   "version": "3.11.8"
  }
 },
 "nbformat": 4,
 "nbformat_minor": 2
}
